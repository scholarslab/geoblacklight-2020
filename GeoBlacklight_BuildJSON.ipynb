{
 "cells": [
  {
   "cell_type": "code",
   "execution_count": null,
   "metadata": {},
   "outputs": [],
   "source": [
    "geoType = {\n",
    "    \"esriGeometryNull\" : \"Unknown type of geometry\",\n",
    "    \"esriGeometryPoint\" : \"Point\",\n",
    "    \"esriGeometryMultipoint\" : \"Point\",\n",
    "    \"esriGeometryLine\" : \"Line\",\n",
    "    \"esriGeometryCircularArc\" : \"Line\",\n",
    "    \"esriGeometryEllipticArc\" : \"Line\",\n",
    "    \"esriGeometryBezier3Curve\"  : \"Line\",\n",
    "    \"esriGeometryPath\" : \"Line\",\n",
    "    \"esriGeometryPolyline\" : \"Line\",\n",
    "    \"esriGeometryRing\" : \"Polygon\",\n",
    "    \"esriGeometryPolygon\" : \"Polygon\",\n",
    "    \"esriGeometryEnvelope\" : \"Polygon\",\n",
    "    \"esriGeometryAny\" : \"Any valid geometry\",\n",
    "    \"esriGeometryBag\" : \"GeometryBag\",\n",
    "    \"esriGeometryMultiPatch\" : \"MultiPatch\",\n",
    "    \"esriGeometryTriangleStrip\" : \"TriangleStrip\",\n",
    "    \"esriGeometryTriangeFan\" : \"TriangleFan\",\n",
    "    \"esriGeometryRay\" : \"Ray\",\n",
    "    \"esriGeometrySphere\" : \"Polygon\",\n",
    "    \"esriGeometryTriangles\" : \"Polygon\"\n",
    "}"
   ]
  },
  {
   "cell_type": "code",
   "execution_count": null,
   "metadata": {},
   "outputs": [],
   "source": [
    "def cleanhtml(raw_html):\n",
    "    if raw_html is not None:\n",
    "        try:\n",
    "            cleanr = re.compile('<.*?>')\n",
    "            cleantext = re.sub(cleanr, '', raw_html)\n",
    "            return cleantext\n",
    "        except Exception as err:\n",
    "            print(str(err))\n",
    "            print(raw_html)\n",
    "    return \"\""
   ]
  },
  {
   "cell_type": "code",
   "execution_count": null,
   "metadata": {},
   "outputs": [],
   "source": [
    "def download_url(in_service):\n",
    "    layer_index = in_service.layers[0].url.split(\"/\")[-1]\n",
    "    url = r'https://opendata.arcgis.com/datasets/{0}_{1}.zip'.format(in_service.id, layer_index)\n",
    "\n",
    "    try:\n",
    "        r = requests.head(url)\n",
    "        if r.status_code == 202:\n",
    "            print(in_service.id + \": Download URL initiated: \", url)\n",
    "        elif r.status_code != 200:\n",
    "            print(in_service.id + \"Download URL invalid: \", url + \", Status Code:\", r.status_code)\n",
    "            url = \"error\"\n",
    "    except requests.ConnectionError:\n",
    "        print(in_service.id + \"Download URL invalid: \", url + \", Status Code:\", r.status_code)\n",
    "        url = \"error\"\n",
    "    \n",
    "#     print(url)\n",
    "    return url"
   ]
  },
  {
   "cell_type": "code",
   "execution_count": null,
   "metadata": {},
   "outputs": [],
   "source": [
    "def make_refs(in_service):\n",
    "    ref_dict = {}\n",
    "    if in_service.type == 'Feature Service':\n",
    "        ref_dict[r\"urn:x-esri:serviceType:ArcGIS#FeatureLayer\"] = in_service.layers[0].url\n",
    "        url = download_url(in_service)\n",
    "        if url != \"error\":\n",
    "            ref_dict[\"http://schema.org/downloadUrl\"] = url\n",
    "    elif in_service.type == 'Image Service':\n",
    "        ref_dict[r\"urn:x-esri:serviceType:ArcGIS#FeatureLayer\"] = in_service.url\n",
    "        if 'Albemarle Aerials' in in_service.title:            \n",
    "            ref_dict[\"http://schema.org/downloadUrl\"] = 'https://geoportal.lib.virginia.edu/UVAImageDiscovery/'\n",
    "        elif 'Sanborn_' in in_service.title:  \n",
    "            ref_dict[\"http://schema.org/downloadUrl\"] = 'https://geoportal.lib.virginia.edu/UVASanbornDiscovery/'\n",
    "            \n",
    "    return str(ref_dict).replace(\"'\", \"\\\"\")"
   ]
  },
  {
   "cell_type": "code",
   "execution_count": null,
   "metadata": {},
   "outputs": [],
   "source": [
    "def bbox(extent):\n",
    "    w = round(extent[0][0], 3)\n",
    "    e = round(extent[1][0], 3)    \n",
    "    n = round(extent[1][1], 3)    \n",
    "    s = round(extent[0][1], 3)  \n",
    "    \n",
    "    return \"ENVELOPE({0},{1},{2},{3})\".format(w,e,n,s)\n",
    "\n",
    "# bbox(service.extent)"
   ]
  },
  {
   "cell_type": "code",
   "execution_count": null,
   "metadata": {
    "scrolled": false
   },
   "outputs": [],
   "source": [
    "def build_json(in_services, in_places):\n",
    "    solr_json = []\n",
    "\n",
    "    for service in in_services:\n",
    "        dict = {} \n",
    "        dc_format_s = \"Shapefile\"\n",
    "        \n",
    "        try:\n",
    "            if not service.layers:\n",
    "                print(service.id + \": Error getting service URL. Fix service\")\n",
    "                continue\n",
    "#             if 'Table' in service.typeKeywords:\n",
    "#                 print(service.id + \": Service is a table, not a Feature Class\")\n",
    "#                 continue\n",
    "#             else:\n",
    "\n",
    "            if service.type == 'Feature Service':\n",
    "                dict[\"dc_type_s\"] = \"Dataset\"\n",
    "                try:\n",
    "                    dict[\"layer_geom_type_s\"] = geoType[service.layers[0].properties.geometryType]\n",
    "                except:\n",
    "                    print(\"geoType Exception\")\n",
    "                    if 'Table' in service.typeKeywords:\n",
    "                        print(service.id + \": Service is a table, not a Feature Class\")\n",
    "                        \n",
    "                    continue\n",
    "            elif service.type == 'Image Service':\n",
    "                dict[\"dc_type_s\"] = \"Image\"\n",
    "                dict[\"layer_geom_type_s\"] = \"Image\"\n",
    "                if 'Albemarle Aerials' in service.title or 'Sanborn_' in service.title:\n",
    "                    dc_format_s = \"Web Application\"\n",
    "                else:\n",
    "                    dc_format_s = \"Raster Dataset\"\n",
    "                    \n",
    "            dict[\"dc_format_s\"] = dc_format_s\n",
    "            dict[\"geoblacklight_version\"] = \"1.0\"\n",
    "            dict[\"dc_description_s\"] = cleanhtml(service.description)\n",
    "            dict[\"dc_identifier_s\"] = r'http://gis.lib.virginia.edu/' + service.id\n",
    "            dict[\"layer_slug_s\"] = slugify(service.title)\n",
    "            dict[\"layer_id_s\"] = \"urn:urn-\" + service.id    \n",
    "            dict[\"dc_title_s\"] = service.title\n",
    "            dict[\"dc_subject_sm\"] = service.tags\n",
    "            dict[\"dc_rights_s\"] = \"Public\"\n",
    "            dict[\"dct_provenance_s\"] = \"UVa\"\n",
    "            dict[\"solr_geom\"] = bbox(service.extent)\n",
    "            \n",
    "            if in_places:\n",
    "                dict[\"dct_spatial_sm\"] = in_places\n",
    "            else:\n",
    "                dict[\"dct_spatial_sm\"] = ['Virginia']\n",
    "                \n",
    "            dict[\"dct_references_s\"] = make_refs(service)\n",
    "            dict[\"solr_year_i\"] = datetime.datetime.fromtimestamp(service.created / 1e3).strftime('%Y')\n",
    "\n",
    "            dict[\"layer_modified_dt\"] = datetime.datetime.fromtimestamp(service.modified / 1e3).strftime('%Y-%m-%dT%H:%M:%SZ')\n",
    "\n",
    "            solr_json.append(dict)\n",
    "        except Exception as err:\n",
    "            print(service.id + \": \" + str(err))\n",
    "            \n",
    "    return(solr_json)"
   ]
  },
  {
   "cell_type": "code",
   "execution_count": null,
   "metadata": {},
   "outputs": [],
   "source": [
    "def solr_admin(solr_str, is_json):\n",
    "\n",
    "    if is_json:\n",
    "        URL = \"http://gbl-dev.scholarslab.org/solr/geoblacklight/update/json/docs?commit=true\"\n",
    "        headers = {'content-type': 'application/json'}\n",
    "        payload = json.loads(solr_str)\n",
    "#         print (payload)\n",
    "        r = requests.post(URL, json=payload, headers=headers)\n",
    "    else:    \n",
    "        URL = \"https://gbl-dev.scholarslab.org/solr/geoblacklight/update?commit=true\"\n",
    "#         print(solr_str)\n",
    "        headers = {'content-type': 'application/xml'}    \n",
    "        r = requests.post(URL, data=solr_str, headers=headers)\n",
    "        \n",
    "    print(r)\n",
    "    print(r.text)"
   ]
  },
  {
   "cell_type": "code",
   "execution_count": null,
   "metadata": {},
   "outputs": [],
   "source": [
    "def fetch_services(owner, in_gis, max_items):\n",
    "    if not max_items:\n",
    "        max_items = 99999\n",
    "    \n",
    "#     print(max_items)\n",
    "    query = \"owner:\" + owner\n",
    "    results = in_gis.content.search(query=query,max_items=max_items)\n",
    "    \n",
    "    return results"
   ]
  },
  {
   "cell_type": "code",
   "execution_count": null,
   "metadata": {
    "scrolled": true
   },
   "outputs": [],
   "source": [
    "## Main\n",
    "from arcgis.gis import GIS\n",
    "from arcgis import features\n",
    "import re, json, arcpy, shutil, os, datetime, requests\n",
    "from slugify import slugify\n",
    "\n",
    "\n",
    "# delete_all = True\n",
    "solr_json_list = []\n",
    "gis = GIS('https://www.arcgis.com') #,cred[0],cred[1])\n",
    "\n",
    "owner_dict = {'UVa_Data':[],'CharlottesvilleAdmin':['Charlottesville', 'Virginia']}\n",
    "\n",
    "# if delete_all:\n",
    "#     solr_del = '<delete><query>*:*</query></delete>'\n",
    "#     solr_admin(solr_del, False)\n",
    "\n",
    "for owner, places in owner_dict.items():\n",
    "    services = fetch_services(owner, gis, None)\n",
    "    solr_json = build_json(services, places)   \n",
    "    \n",
    "    if solr_json:\n",
    "        solr_json_list = solr_json_list + solr_json\n",
    "            \n",
    "#         solr_json_string = json.dumps(solr_json)\n",
    "#         print (solr_json_string)\n",
    "        # solr_json.append(jsonstr)\n",
    "        # solr_json_string\n",
    "#         solr_admin(solr_json_string, True)\n",
    "    else:\n",
    "        print(\"List Empty\")\n",
    "  \n",
    "\n",
    "if len(solr_json_list) > 0:\n",
    "    with open(r'C:\\Users\\aam6g\\Documents\\uvadata.json','w') as outfile:\n",
    "        json.dump(solr_json_list, outfile)\n",
    "# print(solr_json_list)\n",
    "\n",
    "# query = \"owner:slabgis_uvalibrary AND title:VA Cities\"  \n",
    "# services = gis.content.search(query=query, item_type = \"Feature Service\", max_items=5)\n",
    "# # services = gis.content.search(query=query, max_items=999)\n",
    "\n",
    "# services\n",
    "\n",
    "# update_solr(services, False)"
   ]
  },
  {
   "cell_type": "code",
   "execution_count": null,
   "metadata": {},
   "outputs": [],
   "source": [
    "#*********************************************Junk**************************************************************"
   ]
  },
  {
   "cell_type": "code",
   "execution_count": null,
   "metadata": {},
   "outputs": [],
   "source": [
    "if len(solr_json_list) > 0:\n",
    "    with open(r'C:\\Users\\aam6g\\Documents\\uvadata.json','w') as outfile:\n",
    "        json.dump(solr_json_list, outfile)"
   ]
  },
  {
   "cell_type": "code",
   "execution_count": null,
   "metadata": {},
   "outputs": [],
   "source": [
    "fetch_services(\"UVa_Data\", gis, 5)"
   ]
  },
  {
   "cell_type": "code",
   "execution_count": null,
   "metadata": {},
   "outputs": [],
   "source": []
  },
  {
   "cell_type": "code",
   "execution_count": null,
   "metadata": {},
   "outputs": [],
   "source": [
    "len(solr_json_list)"
   ]
  },
  {
   "cell_type": "code",
   "execution_count": null,
   "metadata": {},
   "outputs": [],
   "source": [
    "solr_json_string = json.dumps(solr_json_list)\n",
    "print (solr_json_string)"
   ]
  },
  {
   "cell_type": "code",
   "execution_count": null,
   "metadata": {},
   "outputs": [],
   "source": [
    "update_solr(services, False)"
   ]
  },
  {
   "cell_type": "code",
   "execution_count": null,
   "metadata": {},
   "outputs": [],
   "source": [
    "services[2].tags[-1]"
   ]
  },
  {
   "cell_type": "code",
   "execution_count": null,
   "metadata": {
    "scrolled": true
   },
   "outputs": [],
   "source": [
    "vars(services[2])"
   ]
  },
  {
   "cell_type": "code",
   "execution_count": null,
   "metadata": {},
   "outputs": [],
   "source": [
    "layer = gis.content.get('710a311a241a4f67b6a36456388c2491')"
   ]
  },
  {
   "cell_type": "code",
   "execution_count": null,
   "metadata": {},
   "outputs": [],
   "source": [
    "vars(layer)"
   ]
  },
  {
   "cell_type": "code",
   "execution_count": null,
   "metadata": {},
   "outputs": [],
   "source": [
    "layer"
   ]
  },
  {
   "cell_type": "code",
   "execution_count": null,
   "metadata": {},
   "outputs": [],
   "source": [
    "def update_solr(in_services, delete_all):\n",
    "    if delete_all:\n",
    "        solr_del = '<delete><query>*:*</query></delete>'\n",
    "        solr_admin(solr_json_string, False)\n",
    "\n",
    "#     solr_json = build_json(in_services)\n",
    "    solr_json_string = json.dumps(solr_json)\n",
    "    # solr_json.append(jsonstr)\n",
    "    # solr_json_string\n",
    "    solr_admin(solr_json_string, True)"
   ]
  },
  {
   "cell_type": "code",
   "execution_count": null,
   "metadata": {},
   "outputs": [],
   "source": [
    "solr_del = '<delete><query>*:*</query></delete>'\n",
    "solr_admin(solr_del, False)"
   ]
  },
  {
   "cell_type": "code",
   "execution_count": null,
   "metadata": {},
   "outputs": [],
   "source": [
    "solr_json = build_json(services,[])"
   ]
  },
  {
   "cell_type": "code",
   "execution_count": null,
   "metadata": {},
   "outputs": [],
   "source": [
    "solr_json_string = json.dumps(solr_json)\n",
    "# solr_json.append(jsonstr)\n",
    "# solr_json_string\n",
    "solr_admin(solr_json_string, True)"
   ]
  },
  {
   "cell_type": "code",
   "execution_count": null,
   "metadata": {},
   "outputs": [],
   "source": [
    "solr_json"
   ]
  },
  {
   "cell_type": "code",
   "execution_count": null,
   "metadata": {},
   "outputs": [],
   "source": [
    "layer.update(categories=places)"
   ]
  },
  {
   "cell_type": "code",
   "execution_count": null,
   "metadata": {},
   "outputs": [],
   "source": [
    "vars(layer)"
   ]
  },
  {
   "cell_type": "code",
   "execution_count": null,
   "metadata": {},
   "outputs": [],
   "source": [
    "jsonstr= r\"\"\"\n",
    "{\n",
    "    \"uuid\": \"1554988372481r8985845076931508\",\n",
    "    \"dc_identifier_s\": \"1554988372481r8985845076931508\",\n",
    "    \"dc_title_s\": \"U.S. National Atlas Cities 2\",\n",
    "    \"dc_description_s\": \"U.S. National Atlas Cities represents cities and towns in the United States.\",\n",
    "    \"dc_rights_s\": \"Public\",\n",
    "    \"dct_provenance_s\": \"Esri\",\n",
    "    \"dct_references_s\": \"{\\\"http://www.opengis.net/def/serviceType/ogc/wms\\\":\\\"http://gis.lib.virginia.edu/geoserver/wms\\\",\\\"http://www.opengis.net/def/serviceType/ogc/wfs\\\":\\\"http://gis.lib.virginia.edu/geoserver/wfs\\\",\\\"http://www.opengis.net/def/serviceType/ogc/wcs\\\":\\\"http://gis.lib.virginia.edu/geoserver/wcs\\\",\\\"http://schema.org/downloadUrl\\\":\\\"http://gis.lib.virginia.edu/geoserver/ows?service=WFS\\\\u0026typeName=U.S. National Atlas Cities\\\\u0026request=GetFeature\\\\u0026outputFormat=shape-zip\\\",\\\"http://www.isotc211.org/schemas/2005/gmd/\\\":\\\"https://opengeometadata.github.io/etadata.xml\\\"}\",\n",
    "    \"layer_id_s\": \"U_S__National_Atlas_Cities\",\n",
    "    \"layer_slug_s\": \"uva-U_S__National_Atlas_Cities2\",\n",
    "    \"layer_geom_type_s\": \"Raster\",\n",
    "    \"dc_format_s\": \"Shapefile\",\n",
    "    \"dc_language_s\": \"eng\",\n",
    "    \"georss_polygon_s\": \"17.712475 -176.658056 71.290556 -176.658056 71.290556 178.8775 17.712475 178.8775 17.712475 -176.658056\",\n",
    "    \"solr_geom\": \"ENVELOPE(-176.658056, 178.8775, 71.290556, 17.712475)\",\n",
    "    \"georss_box_s\": \"17.712475 -176.658056 71.290556 178.8775\",\n",
    "    \"layer_modified_dt\": \"2016-10-22T00:00:00Z\",\n",
    "    \"dc_type_s\": \"Dataset\",\n",
    "    \"dc_subject_sm\": [\n",
    "        \"Location\",\n",
    "        \"Elevation\",\n",
    "        \"Society\"\n",
    "    ],\n",
    "    \"dc_spatial_sm\": [\n",
    "        \"<keyword>\\n                        <gco:CharacterString>Downloadable Data</gco:CharacterString>\\n                    </keyword>\"\n",
    "    ],\n",
    "    \"dct_issued_s\": \"\",\n",
    "    \"dct_temporal_sm\": \"\\n   \",\n",
    "    \"solr_year_i\": 0\n",
    "}\n",
    "\"\"\"\n",
    "\n",
    "solr_json_string = json.dumps(jsonstr)\n",
    "json_payload(solr_json_string, True)"
   ]
  },
  {
   "cell_type": "code",
   "execution_count": null,
   "metadata": {},
   "outputs": [],
   "source": [
    "jsonstr = r\"\"\"\n",
    "{\n",
    "  \"dc_description_s\": \"Virginia Cities\",\n",
    "  \"dc_identifier_s\": \"uva-drew-test-cities\",\n",
    "  \"dc_rights_s\": \"Public\",\n",
    "  \"dc_title_s\": \"VA Cities\",\n",
    "  \"dc_type_s\": \"Dataset\",\n",
    "  \"dct_issued_s\": \"2015-02-28T18:53:27Z\",\n",
    "  \"dct_provenance_s\": \"UVa\",\n",
    "  \"dct_references_s\": \"{\\\"urn:x-esri:serviceType:ArcGIS#FeatureLayer\\\":\\\"https://services2.arcgis.com/8k2PygHqghVevhzy/arcgis/rest/services/VA_Cities/FeatureServer/1\\\",\\\"http://www.isotc211.org/schemas/2005/gmd\\\":\\\"http://people.virginia.edu/~aam6g/VA_Cities_Translated.xml\\\"}\",\n",
    "  \"dct_spatial_sm\": [\n",
    "    \"Virginia\"\n",
    "  ],\n",
    "  \"layer_geom_type_s\": \"Point\",\n",
    "  \"layer_id_s\": \"urn:urn-ad0e6ebc-824e-4450-a0d9-987f2232724f\",\n",
    "  \"layer_modified_dt\": \"2016-07-18T15:17:46Z\",\n",
    "  \"layer_slug_s\": \"uva-drew-test-cities\",\n",
    "  \"solr_geom\": \"ENVELOPE(-83.751500, -74.973400, 39.406300, 36.434300)\",\n",
    "  \"solr_year_i\": 2015\n",
    "},\n",
    "{\n",
    "  \"dc_description_s\": \"Virginia Counties\",\n",
    "  \"dc_identifier_s\": \"uva-drew-test-counties\",\n",
    "  \"dc_rights_s\": \"Public\",\n",
    "  \"dc_title_s\": \"VA Counties\",\n",
    "  \"dc_type_s\": \"Dataset\",\n",
    "  \"dct_issued_s\": \"2015-02-28T18:53:27Z\",\n",
    "  \"dct_provenance_s\": \"UVa\",\n",
    "  \"dct_references_s\": \"{\\\"urn:x-esri:serviceType:ArcGIS#FeatureLayer\\\":\\\"https://services2.arcgis.com/8k2PygHqghVevhzy/ArcGIS/rest/services/VA_Counties_Generalized/FeatureServer/0\\\",\\\"http://www.isotc211.org/schemas/2005/gmd\\\":\\\"http://people.virginia.edu/~aam6g/VA_Counties.xml\\\",\\\"http://schema.org/downloadUrl\\\":\\\"https://uvalibrary.maps.arcgis.com/sharing/rest/content/items/de8f397f859141c190558f33ad0643e9/data\\\"}\",\n",
    "  \"dct_spatial_sm\": [\n",
    "    \"Virginia\"\n",
    "  ],\n",
    "  \"layer_geom_type_s\": \"Polygon\",\n",
    "  \"layer_id_s\": \"urn:urn-ad0e6ebc-824e-4450-a0d9-987f2232724f\",\n",
    "  \"layer_modified_dt\": \"2016-07-18T15:17:46Z\",\n",
    "  \"layer_slug_s\": \"uva-drew-test-counties\",\n",
    "  \"solr_geom\": \"ENVELOPE(-83.751500, -74.973400, 39.406300, 36.434300)\",\n",
    "  \"solr_year_i\": 2015,\n",
    "  \"dc_format_s\": \"Shapefile\"\n",
    "}\n",
    "\"\"\"\n",
    "print(jsonstr)\n",
    "solr_json_string = json.dumps(jsonstr)\n",
    "print(solr_json_string)\n",
    "# json_payload(solr_json_string, True)\n"
   ]
  }
 ],
 "metadata": {
  "kernelspec": {
   "display_name": "Python 3",
   "language": "python",
   "name": "python3"
  },
  "language_info": {
   "codemirror_mode": {
    "name": "ipython",
    "version": 3
   },
   "file_extension": ".py",
   "mimetype": "text/x-python",
   "name": "python",
   "nbconvert_exporter": "python",
   "pygments_lexer": "ipython3",
   "version": "3.6.8"
  }
 },
 "nbformat": 4,
 "nbformat_minor": 2
}
