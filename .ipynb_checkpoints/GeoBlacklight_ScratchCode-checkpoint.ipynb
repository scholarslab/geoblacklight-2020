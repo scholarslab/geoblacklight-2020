{
 "cells": [
  {
   "cell_type": "code",
   "execution_count": null,
   "metadata": {},
   "outputs": [],
   "source": [
    "from arcgis.gis import GIS\n",
    "from arcgis import features\n",
    "import re, json, arcpy, shutil, os, datetime, requests\n",
    "from slugify import slugify\n",
    "\n",
    "# dict = {}"
   ]
  },
  {
   "cell_type": "code",
   "execution_count": null,
   "metadata": {},
   "outputs": [],
   "source": [
    "geoType = {\n",
    "    \"esriGeometryNull\" : \"Unknown type of geometry\",\n",
    "    \"esriGeometryPoint\" : \"Point\",\n",
    "    \"esriGeometryMultipoint\" : \"Point\",\n",
    "    \"esriGeometryLine\" : \"Line\",\n",
    "    \"esriGeometryCircularArc\" : \"Line\",\n",
    "    \"esriGeometryEllipticArc\" : \"Line\",\n",
    "    \"esriGeometryBezier3Curve\"  : \"Line\",\n",
    "    \"esriGeometryPath\" : \"Line\",\n",
    "    \"esriGeometryPolyline\" : \"Line\",\n",
    "    \"esriGeometryRing\" : \"Polygon\",\n",
    "    \"esriGeometryPolygon\" : \"Polygon\",\n",
    "    \"esriGeometryEnvelope\" : \"Polygon\",\n",
    "    \"esriGeometryAny\" : \"Any valid geometry\",\n",
    "    \"esriGeometryBag\" : \"GeometryBag\",\n",
    "    \"esriGeometryMultiPatch\" : \"MultiPatch\",\n",
    "    \"esriGeometryTriangleStrip\" : \"TriangleStrip\",\n",
    "    \"esriGeometryTriangeFan\" : \"TriangleFan\",\n",
    "    \"esriGeometryRay\" : \"Ray\",\n",
    "    \"esriGeometrySphere\" : \"Polygon\",\n",
    "    \"esriGeometryTriangles\" : \"Polygon\"\n",
    "}"
   ]
  },
  {
   "cell_type": "code",
   "execution_count": null,
   "metadata": {},
   "outputs": [],
   "source": [
    "def cleanhtml(raw_html):\n",
    "    if raw_html is not None:\n",
    "        try:\n",
    "            cleanr = re.compile('<.*?>')\n",
    "            cleantext = re.sub(cleanr, '', raw_html)\n",
    "            return cleantext\n",
    "        except Exception as err:\n",
    "            print(str(err))\n",
    "            print(raw_html)\n",
    "    return \"\""
   ]
  },
  {
   "cell_type": "code",
   "execution_count": null,
   "metadata": {},
   "outputs": [],
   "source": [
    "def make_refs(service):\n",
    "    ref_dict = {}\n",
    "    if service.type == 'Feature Service':\n",
    "        ref_dict[r\"urn:x-esri:serviceType:ArcGIS#FeatureLayer\"] = service.layers[0].url\n",
    "\n",
    "    layer_index = service.layers[0].url.split(\"/\")[-1]\n",
    "    download_url = r'https://opendata.arcgis.com/datasets/{0}_{1}.zip'.format(service.id, layer_index)\n",
    "\n",
    "    try:\n",
    "        r = requests.head(download_url)\n",
    "        if r.status_code != 200:\n",
    "            print(service.id + \": Download URL initiated: \", download_url)\n",
    "            ref_dict[\"http://schema.org/downloadUrl\"] = download_url\n",
    "        else:\n",
    "            ref_dict[\"http://schema.org/downloadUrl\"] = download_url\n",
    "    except requests.ConnectionError:\n",
    "        print(service.id + \"Download URL invalid: \", download_url + \", Status Code:\", r.status_code)\n",
    "        \n",
    "#     if service.metadata:\n",
    "#         full_path = r'\\\\home1.storage.virginia.edu\\aam6g\\public_html\\\\' + service.id + \".xml\"\n",
    "#         my_file = open(full_path,'w')\n",
    "#         my_file.write(service.metadata)\n",
    "#         ref_dict[\"http://www.isotc211.org/schemas/2005/gmd\"] = r'http://people.virginia.edu/~aam6g/' + service.id + '.xml'\n",
    "\n",
    "    return str(ref_dict).replace(\"'\", \"\\\"\")\n",
    "#     return str(ref_dict)\n",
    "#     return ref_dict\n",
    "\n",
    "# make_refs(services[1])"
   ]
  },
  {
   "cell_type": "code",
   "execution_count": null,
   "metadata": {},
   "outputs": [],
   "source": [
    "def bbox(extent):\n",
    "    w = round(extent[0][0], 3)\n",
    "    e = round(extent[1][0], 3)    \n",
    "    n = round(extent[1][1], 3)    \n",
    "    s = round(extent[0][1], 3)  \n",
    "    \n",
    "    return \"ENVELOPE({0},{1},{2},{3})\".format(w,e,n,s)\n",
    "\n",
    "# bbox(service.extent)"
   ]
  },
  {
   "cell_type": "code",
   "execution_count": null,
   "metadata": {},
   "outputs": [],
   "source": [
    "# credFile = 'process_cred.txt'\n",
    "\n",
    "# with open(credFile) as f:\n",
    "#     cred = [x.strip() for x in f.readlines()]\n",
    "gis = GIS('https://uvalibrary.maps.arcgis.com')#,cred[0],cred[1])"
   ]
  },
  {
   "cell_type": "code",
   "execution_count": null,
   "metadata": {},
   "outputs": [],
   "source": [
    "query = \"owner:slabgis_uvalibrary\" # AND title:VA Cities\"\n",
    "services = gis.content.search(query=query,item_type=\"Image Service\",max_items=5)\n",
    "# services = gis.content.search(query=query,max_items=999)\n",
    "\n",
    "services"
   ]
  },
  {
   "cell_type": "code",
   "execution_count": null,
   "metadata": {},
   "outputs": [],
   "source": [
    "service_list = []\n",
    "for service in services:\n",
    "    if service.type not in service_list:\n",
    "        service_list.append(service.type)\n",
    "        \n",
    "service_list"
   ]
  },
  {
   "cell_type": "code",
   "execution_count": null,
   "metadata": {},
   "outputs": [],
   "source": [
    "for service in services:\n",
    "    print(service.type, \": \", service.title)"
   ]
  },
  {
   "cell_type": "code",
   "execution_count": null,
   "metadata": {},
   "outputs": [],
   "source": [
    "dir(services[0])"
   ]
  },
  {
   "cell_type": "code",
   "execution_count": null,
   "metadata": {
    "scrolled": false
   },
   "outputs": [],
   "source": [
    "solr_json = []\n",
    "# for idx, service in enumerate(services):\n",
    "#     if idx != 1:\n",
    "#         continue\n",
    "for service in services:\n",
    "#     if service.title != 'VA Cities':\n",
    "#         continue\n",
    "    dict = {} \n",
    "#     print(service)\n",
    "    try:\n",
    "        if not service.layers:\n",
    "            print(service.id + \": Error getting service URL. Fix service\")\n",
    "            continue\n",
    "        else:\n",
    "            dict[\"dct_references_s\"] = make_refs(service)\n",
    "            dict[\"layer_geom_type_s\"] = geoType[service.layers[0].properties.geometryType]\n",
    "    #         dict['dct_references_s'].replace(\"'\",\"\\\\\\\"\")\n",
    "\n",
    "        dict[\"geoblacklight_version\"] = \"1.0\"\n",
    "        dict[\"dc_description_s\"] = cleanhtml(service.description)\n",
    "        dict[\"dc_identifier_s\"] = r'http://gis.lib.virginia.edu/' + service.id\n",
    "        dict[\"layer_slug_s\"] = slugify(service.title)\n",
    "        dict[\"layer_id_s\"] = \"urn:urn-\" + service.id    \n",
    "        dict[\"dc_title_s\"] = service.title\n",
    "\n",
    "        dict[\"dc_rights_s\"] = \"Public\"\n",
    "        dict[\"dct_provenance_s\"] = \"UVa\"\n",
    "        dict[\"dc_type_s\"] = \"Dataset\"\n",
    "        dict[\"dc_format_s\"] = \"Shapefile\"\n",
    "\n",
    "    #     dict[\"solr_geom\"] = \"ENVELOPE(-83.751500, -74.973400, 39.406300, 36.434300)\"\n",
    "        dict[\"solr_geom\"] = bbox(service.extent)\n",
    "        dict[\"dct_spatial_sm\"] = [\"Virginia\"]\n",
    "        dict[\"solr_year_i\"] = datetime.datetime.fromtimestamp(service.created / 1e3).strftime('%Y')\n",
    "\n",
    "        dict[\"layer_modified_dt\"] = datetime.datetime.fromtimestamp(service.modified / 1e3).strftime('%Y-%m-%dT%H:%M:%SZ')\n",
    "\n",
    "        solr_json.append(dict)\n",
    "    except Exception as err:\n",
    "        print(service.id + \": \" + str(err))\n",
    "#     break\n",
    "\n",
    "solr_json"
   ]
  },
  {
   "cell_type": "code",
   "execution_count": null,
   "metadata": {},
   "outputs": [],
   "source": [
    "with open(r'\\\\home1.storage.virginia.edu\\aam6g\\public_html\\test_py.json','w') as outfile:\n",
    "    json.dump(solr_json, outfile)\n",
    "    \n",
    "# # Read in the file\n",
    "# with open(r'\\\\home1.storage.virginia.edu\\aam6g\\public_html\\test_py.json', 'r') as file :\n",
    "#   filedata = file.read()\n",
    "\n",
    "# # Replace the target string\n",
    "# # print(filedata)\n",
    "# filedata = filedata.replace(r\"'\", r\"\\\"\")\n",
    "# # print(filedata)\n",
    "\n",
    "# # Write the file out again\n",
    "# with open(r'\\\\home1.storage.virginia.edu\\aam6g\\public_html\\test_py.json', 'w') as file:\n",
    "#   file.write(filedata)    \n"
   ]
  },
  {
   "cell_type": "code",
   "execution_count": null,
   "metadata": {},
   "outputs": [],
   "source": []
  },
  {
   "cell_type": "code",
   "execution_count": null,
   "metadata": {},
   "outputs": [],
   "source": [
    "************************** End Prod Code, Start junk pile ************************************************"
   ]
  },
  {
   "cell_type": "code",
   "execution_count": null,
   "metadata": {},
   "outputs": [],
   "source": []
  },
  {
   "cell_type": "code",
   "execution_count": null,
   "metadata": {},
   "outputs": [],
   "source": [
    "service.tags"
   ]
  },
  {
   "cell_type": "code",
   "execution_count": null,
   "metadata": {},
   "outputs": [],
   "source": [
    "print(solr_json[0]['dct_references_s'])\n",
    "text = solr_json[0]['dct_references_s']\n",
    "text = text.replace(\"'\", \"\\\"\")\n",
    "print(text)\n",
    "# with open(r'\\\\home1.storage.virginia.edu\\aam6g\n",
    "solr_json[0]['dct_references_s'] = text\n"
   ]
  },
  {
   "cell_type": "code",
   "execution_count": null,
   "metadata": {},
   "outputs": [],
   "source": [
    "metadata = services[1].download_metadata()\n",
    "\n",
    "# # full_path = r'\\\\home1.storage.virginia.edu\\aam6g\\public_html\\metadata.xml'\n",
    "full_path = r'C:\\\\Users\\\\aam6g\\\\metadata.xml'\n",
    "# # my_file = open(full_path,'w')\n",
    "# # my_file.write(services[1].metadata)\n",
    "\n",
    "# # arcpy.ESRITranslator_conversion(source=temp_path, translator=\"C:/Program Files (x86)/ArcGIS/Desktop10.7/Metadata/Translator/ARCGIS2ISO19139.xml\", output=r'\\\\home1.storage.virginia.edu\\aam6g\\public_html\\\\' + services[1].id + '.xml')\n",
    "# # arcpy.ESRITranslator_conversion(source=\"//home1.storage.virginia.edu/aam6g/public_html/dd844099f21440a49872678970fdb44f.xml\", translator=\"C:/Program Files (x86)/ArcGIS/Desktop10.7/Metadata/Translator/ARCGIS2ISO19139.xml\", output=\"//home1.storage.virginia.edu/aam6g/public_html/VA_Cities_Translated2.xml\", logfile=\"//home1.storage.virginia.edu/aam6g/public_html/dd844099f21440a49872678970fd1.log\")\n",
    "newfile = shutil.copy(metadata, full_path)\n",
    "# # metadata = slugify(metadata)\n",
    "# # metadata = cleanhtml(metadata)\n",
    "\n",
    "print(metadata)"
   ]
  },
  {
   "cell_type": "code",
   "execution_count": null,
   "metadata": {},
   "outputs": [],
   "source": [
    "for layer in solr_json:\n",
    "    og_text = solr_json[0]['dct_references_s']\n",
    "    rep_text = text.replace(\"'\", \"\\\"\")\n",
    "    solr_json[0]['dct_references_s'] = rep_text    "
   ]
  },
  {
   "cell_type": "code",
   "execution_count": null,
   "metadata": {},
   "outputs": [],
   "source": [
    "service.modified\n",
    "# # service.modified.strfdate('YYYY-MM-DDThh:mm:ssZ')\n",
    "from datetime import datetime\n",
    "date = datetime.fromtimestamp(service.modified / 1e3)\n",
    "date.strftime('%Y-%m-%dT%H:%M:%SZ')\n",
    "# dt = datetime.fromordinal(733828)\n",
    "\n",
    "# datetime.datetime(2010, 2, 25, 0, 0)\n",
    "# dt.strftime('%Y%m%d')\n",
    "\n",
    "# # for extent in service.extent:\n",
    "# #     print(extent)"
   ]
  },
  {
   "cell_type": "code",
   "execution_count": null,
   "metadata": {},
   "outputs": [],
   "source": [
    "dir(service)"
   ]
  },
  {
   "cell_type": "code",
   "execution_count": null,
   "metadata": {},
   "outputs": [],
   "source": [
    "import requests\n",
    "try:\n",
    "#     r = requests.head(\"https://opendata.arcgis.com/datasets/96b4a707b4c84539921486fec56a7c8f_0.zip\")\n",
    "    r = requests.get(\"https://opendata.arcgis.com/datasets/b330ead7bbaa447cae12ed19d2208b52_0.zip\")\n",
    "    print(r.status_code)\n",
    "    print(r.text)\n",
    "    # prints the int of the status code. Find more at httpstatusrappers.com :)\n",
    "except requests.ConnectionError:\n",
    "    print(\"failed to connect\")"
   ]
  },
  {
   "cell_type": "code",
   "execution_count": null,
   "metadata": {},
   "outputs": [],
   "source": [
    "services[3].layers[0].properties.geometryType"
   ]
  },
  {
   "cell_type": "code",
   "execution_count": null,
   "metadata": {},
   "outputs": [],
   "source": [
    "item = gis.content.get(result[0].id)\n",
    "item"
   ]
  },
  {
   "cell_type": "code",
   "execution_count": null,
   "metadata": {},
   "outputs": [],
   "source": [
    "dir(result[3].layers[0].properties)"
   ]
  },
  {
   "cell_type": "code",
   "execution_count": null,
   "metadata": {},
   "outputs": [],
   "source": [
    "# dict = {}\n",
    "dict[\"dc_title_s\"] = result[3].title\n",
    "dict[\"dc_rights_s\"] = \"Public\"\n",
    "dict[\"dct_provenance_s\"] = \"UVa\""
   ]
  },
  {
   "cell_type": "code",
   "execution_count": null,
   "metadata": {},
   "outputs": [],
   "source": [
    "# dict = {}\n",
    "\n",
    "dict"
   ]
  },
  {
   "cell_type": "code",
   "execution_count": null,
   "metadata": {},
   "outputs": [],
   "source": [
    "https://uvalibrary.maps.arcgis.com/sharing/rest/content/items/3d855a1d1f6242daa25b1d2134049b32/data?token=K5tsqqglqde_QOlNLIZ2zuxasXIbaho8aIG-pzqZ5U-BSQTFe_f_YQi-QrJDkUlwmzgPVnFs9O_kF22vbguJjeAU2da6-gb8ocPK5nAhRGaK1HRJdox3QpIPL7aW9esMxMGZjFSNnEiMzSir_DE8YMNO_vtT6CPiQEwVNnw2tO_SJg85tlLYbA4iZFGkcV7k7PN86m68dWP3bgyogAQicLDhAeTmjwNMYTWWcercNys."
   ]
  },
  {
   "cell_type": "code",
   "execution_count": null,
   "metadata": {},
   "outputs": [],
   "source": [
    "for field in arcpy.ListFields('Sheet1_Geocoded'):\n",
    "    if field.name.find(\"USER\") >= 0:\n",
    "        newname = (field.name.replace(\"USER_\",\"\"))\n",
    "        print(newname)\n",
    "        arcpy.management.AlterField(\"Sheet1_Geocoded\", field.name, newname, None, \"TEXT\", 2147483647, \"NULLABLE\", \"CLEAR_ALIAS\")\n",
    "        break"
   ]
  },
  {
   "cell_type": "code",
   "execution_count": null,
   "metadata": {},
   "outputs": [],
   "source": [
    "for field in arcpy.ListFields('VirginiaFarmersMarkets'):\n",
    "    if field.type == 'String' and field.length == 2147483647:\n",
    "        print(field.name)\n",
    "        arcpy.management.AlterField(\"VirginiaFarmersMarkets\", field.name, None, None, \"TEXT\", 255, \"NULLABLE\", \"DO_NOT_CLEAR\")\n",
    "        break"
   ]
  },
  {
   "cell_type": "code",
   "execution_count": null,
   "metadata": {},
   "outputs": [],
   "source": [
    "# my_file = open(r'\\\\home1.storage.virginia.edu\\aam6g\\public_html\\test_py.json','w')\n",
    "# my_file.write(solr_json)\n",
    "# solr_json_dump = json.dumps(solr_json) # .replace(r\"'\", r\"\\\"\")\n",
    "# print((solr_json))\n",
    "# print(str(solr_json).replace(r\"'\", r\"\\\"\"))\n",
    "with open(r'\\\\home1.storage.virginia.edu\\aam6g\\public_html\\test_py.json','w') as outfile:\n",
    "    json.dump(solr_json, outfile)\n",
    "    \n",
    "# Read in the file\n",
    "# with open(r'\\\\home1.storage.virginia.edu\\aam6g\\public_html\\test_py.json', 'r') as file :\n",
    "#   filedata = file.read()\n",
    "\n",
    "# # Replace the target string\n",
    "# # print(filedata)\n",
    "# filedata = filedata.replace(r\"'\", r\"\\\"\")\n",
    "# # print(filedata)\n",
    "\n",
    "# # Write the file out again\n",
    "# with open(r'\\\\home1.storage.virginia.edu\\aam6g\\public_html\\test_py.json', 'w') as file:\n",
    "#   file.write(filedata)    \n",
    "    \n",
    "# solr_json_dump"
   ]
  },
  {
   "cell_type": "code",
   "execution_count": null,
   "metadata": {},
   "outputs": [],
   "source": [
    "def make_refs(service):\n",
    "    ref_dict = {}\n",
    "#     print(service.type)\n",
    "    if service.type == 'Feature Service':\n",
    "        ref_dict[r\"urn:x-esri:serviceType:ArcGIS#FeatureLayer\"] = service.layers[0].url\n",
    "        \n",
    "        \n",
    "        layer_index = service.layers[0].url.split(\"/\")[-1]\n",
    "        download_url = r'https://opendata.arcgis.com/datasets/{0}_{1}.zip'.format(service.id, layer_index)\n",
    "        ref_dict[\"http://schema.org/downloadUrl\"] = download_url\n",
    "        \n",
    "    \n",
    "#         query = \"owner:slabgis_uvalibrary AND title:\" + service.title\n",
    "#         shapefile = gis.content.search(query=query,item_type=\"Shapefile\")\n",
    "\n",
    "#         if shapefile:\n",
    "#             if len(shapefile) > 1:\n",
    "#                 print(\"Multiple Shapefile download matches\")\n",
    "#             else:\n",
    "#                 download_url = r\"https://uvalibrary.maps.arcgis.com/sharing/rest/content/items/\" + shapefile[0].id + r\"/data\"\n",
    "#                 ref_dict[\"http://schema.org/downloadUrl\"] = download_url\n",
    "#         else:\n",
    "#             print(service.title + \" - No shapefile to download. Create Shapefile\")   \n",
    "# #     print(ref_dict)\n",
    "\n",
    "#         if service.metadata:\n",
    "#             full_path = r'\\\\home1.storage.virginia.edu\\aam6g\\public_html\\\\' + service.id + \".xml\"\n",
    "#             my_file = open(full_path,'w')\n",
    "#             my_file.write(service.metadata)\n",
    "#             ref_dict[\"http://www.isotc211.org/schemas/2005/gmd\"] = r'http://people.virginia.edu/~aam6g/' + service.id + '.xml'\n",
    "    return str(ref_dict)\n",
    "\n",
    "# make_refs(services[1])"
   ]
  }
 ],
 "metadata": {
  "kernelspec": {
   "display_name": "Python 3",
   "language": "python",
   "name": "python3"
  },
  "language_info": {
   "codemirror_mode": {
    "name": "ipython",
    "version": 3
   },
   "file_extension": ".py",
   "mimetype": "text/x-python",
   "name": "python",
   "nbconvert_exporter": "python",
   "pygments_lexer": "ipython3",
   "version": "3.6.6"
  }
 },
 "nbformat": 4,
 "nbformat_minor": 2
}
